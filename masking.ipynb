{
 "cells": [
  {
   "cell_type": "markdown",
   "id": "93fcb166",
   "metadata": {},
   "source": [
    "# Masking and Tokenization Experiments\n"
   ]
  },
  {
   "cell_type": "markdown",
   "id": "348933a8",
   "metadata": {},
   "source": [
    "## Dependencies"
   ]
  },
  {
   "cell_type": "code",
   "execution_count": 1,
   "id": "1a8a08d0",
   "metadata": {},
   "outputs": [],
   "source": [
    "# run in colab\n",
    "# !pip install -q gcsfs pyarrow pandas torch transformers polars langid tqdm"
   ]
  },
  {
   "cell_type": "code",
   "execution_count": 2,
   "id": "6208c5c0",
   "metadata": {},
   "outputs": [],
   "source": [
    "import os\n",
    "from pathlib import Path\n",
    "\n",
    "# credential file\n",
    "sa_path = Path(r\"eastern-bridge-credentials.json\").resolve()\n",
    "\n",
    "# clean up any conflicting vars from earlier cells\n",
    "os.environ.pop(\"GOOGLE_SERVICE_ACCOUNT\", None)\n",
    "os.environ[\"GOOGLE_APPLICATION_CREDENTIALS\"] = str(sa_path)  # <-- path, not JSON\n"
   ]
  },
  {
   "cell_type": "code",
   "execution_count": 3,
   "id": "8b97f636",
   "metadata": {},
   "outputs": [],
   "source": [
    "# imports\n",
    "import gcsfs\n",
    "from dataclasses import dataclass\n",
    "from typing import Dict, List, Iterable, Tuple, Optional, Set, Any\n",
    "import polars as pl"
   ]
  },
  {
   "cell_type": "markdown",
   "id": "58551820",
   "metadata": {},
   "source": [
    "## GCS Access"
   ]
  },
  {
   "cell_type": "code",
   "execution_count": 4,
   "id": "119ba6eb",
   "metadata": {},
   "outputs": [
    {
     "name": "stdout",
     "output_type": "stream",
     "text": [
      "Found 225 parquet files\n",
      "1. parquet_v2_openwebtext-with-pos-ner/batch_000001_1759435499.parquet\n",
      "2. parquet_v2_openwebtext-with-pos-ner/batch_000002_1759435590.parquet\n",
      "3. parquet_v2_openwebtext-with-pos-ner/batch_000003_1759435685.parquet\n",
      "4. parquet_v2_openwebtext-with-pos-ner/batch_000004_1759435780.parquet\n",
      "5. parquet_v2_openwebtext-with-pos-ner/batch_000005_1759435870.parquet\n",
      "... and 220 more files\n"
     ]
    }
   ],
   "source": [
    "# GCS Bucket Access\n",
    "BUCKET = \"parquet_v2_openwebtext-with-pos-ner\"\n",
    "\n",
    "# Connect to GCS using service account key\n",
    "fs = gcsfs.GCSFileSystem(token=\"eastern-bridge-credentials.json\")\n",
    "\n",
    "\n",
    "# Get all parquet files from the bucket\n",
    "paths = sorted(fs.glob(f\"{BUCKET}/**/*.parquet\"))\n",
    "print(f\"Found {len(paths)} parquet files\")\n",
    "\n",
    "# Show first few files\n",
    "for i, path in enumerate(paths[:5]):\n",
    "    print(f\"{i+1}. {path}\")\n",
    "if len(paths) > 5:\n",
    "    print(f\"... and {len(paths) - 5} more files\")\n"
   ]
  },
  {
   "cell_type": "markdown",
   "id": "618a8c7e",
   "metadata": {},
   "source": [
    "## Polars Manipulation"
   ]
  },
  {
   "cell_type": "code",
   "execution_count": null,
   "id": "551dc769",
   "metadata": {},
   "outputs": [],
   "source": []
  },
  {
   "cell_type": "markdown",
   "id": "4cde4c4a",
   "metadata": {},
   "source": [
    "### Polats tutorial"
   ]
  },
  {
   "cell_type": "code",
   "execution_count": 5,
   "id": "e3d29283",
   "metadata": {},
   "outputs": [],
   "source": [
    "# eager - reads everything into memory\n",
    "# lf = pl.read_parquet(\"gs://parquet_v2_openwebtext-with-pos-ner/batch_*.parquet\")\n",
    "# df = lf.head(5).collect()\n",
    "# df = df.select([\"id\", \"text\"])  \n",
    "# df"
   ]
  },
  {
   "cell_type": "code",
   "execution_count": null,
   "id": "6ccb278b",
   "metadata": {},
   "outputs": [
    {
     "data": {
      "text/html": [
       "<div><style>\n",
       ".dataframe > thead > tr,\n",
       ".dataframe > tbody > tr {\n",
       "  text-align: right;\n",
       "  white-space: pre-wrap;\n",
       "}\n",
       "</style>\n",
       "<small>shape: (5, 2)</small><table border=\"1\" class=\"dataframe\"><thead><tr><th>id</th><th>text</th></tr><tr><td>str</td><td>str</td></tr></thead><tbody><tr><td>&quot;sent_bd339fa5-d5b2-430e-b8a2-4…</td><td>&quot;Port-au-Prince, Haiti (CNN) --…</td></tr><tr><td>&quot;sent_1a1e1636-86d0-4f0a-86ad-8…</td><td>&quot;Former secretary of state Hill…</td></tr><tr><td>&quot;sent_3972b602-bb67-4969-8c4f-6…</td><td>&quot;The opinions expressed by colu…</td></tr><tr><td>&quot;sent_44c35ec7-67f3-4d13-85bb-d…</td><td>&quot;BIGBANG is one of those musica…</td></tr><tr><td>&quot;sent_8b8bcf88-a267-4db3-8f9d-e…</td><td>&quot;WHAT?!??! I know. That’s what …</td></tr></tbody></table></div>"
      ],
      "text/plain": [
       "shape: (5, 2)\n",
       "┌─────────────────────────────────┬─────────────────────────────────┐\n",
       "│ id                              ┆ text                            │\n",
       "│ ---                             ┆ ---                             │\n",
       "│ str                             ┆ str                             │\n",
       "╞═════════════════════════════════╪═════════════════════════════════╡\n",
       "│ sent_bd339fa5-d5b2-430e-b8a2-4… ┆ Port-au-Prince, Haiti (CNN) --… │\n",
       "│ sent_1a1e1636-86d0-4f0a-86ad-8… ┆ Former secretary of state Hill… │\n",
       "│ sent_3972b602-bb67-4969-8c4f-6… ┆ The opinions expressed by colu… │\n",
       "│ sent_44c35ec7-67f3-4d13-85bb-d… ┆ BIGBANG is one of those musica… │\n",
       "│ sent_8b8bcf88-a267-4db3-8f9d-e… ┆ WHAT?!??! I know. That’s what … │\n",
       "└─────────────────────────────────┴─────────────────────────────────┘"
      ]
     },
     "execution_count": 10,
     "metadata": {},
     "output_type": "execute_result"
    }
   ],
   "source": [
    "# lazy - reads only needed columns/row-groups\n",
    "\n",
    "# create lazy frame object\n",
    "lf = pl.scan_parquet(\"gs://parquet_v2_openwebtext-with-pos-ner/batch_*.parquet\")\n",
    "\n",
    "# select columns\n",
    "lf = lf.select([\"id\", \"text\"])\n",
    "\n",
    "# filter rows \n",
    "lf = lf.head(5)\n",
    "\n",
    "# collect data - actually read the data\n",
    "lf.collect()\n"
   ]
  },
  {
   "cell_type": "code",
   "execution_count": null,
   "id": "560df43a",
   "metadata": {},
   "outputs": [
    {
     "data": {
      "text/html": [
       "<div><style>\n",
       ".dataframe > thead > tr,\n",
       ".dataframe > tbody > tr {\n",
       "  text-align: right;\n",
       "  white-space: pre-wrap;\n",
       "}\n",
       "</style>\n",
       "<small>shape: (1, 2)</small><table border=\"1\" class=\"dataframe\"><thead><tr><th>id</th><th>text</th></tr><tr><td>str</td><td>str</td></tr></thead><tbody><tr><td>&quot;sent_bd339fa5-d5b2-430e-b8a2-4adc18263474&quot;</td><td>&quot;Port-au-Prince, Haiti (CNN) -- Earthquake victims, writhing in pain and grasping at life, watched doctors and nurses walk away from a field hospital Friday night after a Belgian medical team evacuated…</td></tr></tbody></table></div>"
      ],
      "text/plain": [
       "shape: (1, 2)\n",
       "┌───────────────────────────────────────────┬──────────────────────────────────────────────────────────────────────────────────────────────────────────────────────────────────────────────────────┐\n",
       "│ id                                        ┆ text                                                                                                                                                 │\n",
       "│ ---                                       ┆ ---                                                                                                                                                  │\n",
       "│ str                                       ┆ str                                                                                                                                                  │\n",
       "╞═══════════════════════════════════════════╪══════════════════════════════════════════════════════════════════════════════════════════════════════════════════════════════════════════════════════╡\n",
       "│ sent_bd339fa5-d5b2-430e-b8a2-4adc18263474 ┆ Port-au-Prince, Haiti (CNN) -- Earthquake victims, writhing in pain and grasping at life, watched doctors and nurses walk away from a field hospital │\n",
       "│                                           ┆ Friday night after a Belgian medical team evacuated…                                                                                                 │\n",
       "└───────────────────────────────────────────┴──────────────────────────────────────────────────────────────────────────────────────────────────────────────────────────────────────────────────────┘"
      ]
     },
     "execution_count": 16,
     "metadata": {},
     "output_type": "execute_result"
    }
   ],
   "source": [
    "# filter by word\n",
    "lf_filtered = lf.filter(pl.col(\"text\").str.contains(\"Haiti\"))\n",
    "lf_filtered.collect()"
   ]
  },
  {
   "cell_type": "code",
   "execution_count": null,
   "id": "81c1f2f6",
   "metadata": {},
   "outputs": [
    {
     "data": {
      "text/html": [
       "<div><style>\n",
       ".dataframe > thead > tr,\n",
       ".dataframe > tbody > tr {\n",
       "  text-align: right;\n",
       "  white-space: pre-wrap;\n",
       "}\n",
       "</style>\n",
       "<small>shape: (1, 2)</small><table border=\"1\" class=\"dataframe\"><thead><tr><th>id</th><th>text</th></tr><tr><td>str</td><td>str</td></tr></thead><tbody><tr><td>&quot;sent_bd339fa5-d5b2-430e-b8a2-4adc18263474&quot;</td><td>&quot;Port-au-Prince, Haiti (CNN) -- Earthquake victims, writhing in pain and grasping at life, watched doctors and nurses walk away from a field hospital Friday night after a Belgian medical team evacuated…</td></tr></tbody></table></div>"
      ],
      "text/plain": [
       "shape: (1, 2)\n",
       "┌───────────────────────────────────────────┬──────────────────────────────────────────────────────────────────────────────────────────────────────────────────────────────────────────────────────┐\n",
       "│ id                                        ┆ text                                                                                                                                                 │\n",
       "│ ---                                       ┆ ---                                                                                                                                                  │\n",
       "│ str                                       ┆ str                                                                                                                                                  │\n",
       "╞═══════════════════════════════════════════╪══════════════════════════════════════════════════════════════════════════════════════════════════════════════════════════════════════════════════════╡\n",
       "│ sent_bd339fa5-d5b2-430e-b8a2-4adc18263474 ┆ Port-au-Prince, Haiti (CNN) -- Earthquake victims, writhing in pain and grasping at life, watched doctors and nurses walk away from a field hospital │\n",
       "│                                           ┆ Friday night after a Belgian medical team evacuated…                                                                                                 │\n",
       "└───────────────────────────────────────────┴──────────────────────────────────────────────────────────────────────────────────────────────────────────────────────────────────────────────────────┘"
      ]
     },
     "execution_count": 17,
     "metadata": {},
     "output_type": "execute_result"
    }
   ],
   "source": [
    "# retrieve the row with the specific id\n",
    "lf.filter(pl.col(\"id\") == \"sent_bd339fa5-d5b2-430e-b8a2-4adc18263474\").collect()"
   ]
  },
  {
   "cell_type": "code",
   "execution_count": null,
   "id": "f0a9624a",
   "metadata": {},
   "outputs": [
    {
     "data": {
      "text/plain": [
       "polars.config.Config"
      ]
     },
     "execution_count": 15,
     "metadata": {},
     "output_type": "execute_result"
    }
   ],
   "source": []
  },
  {
   "cell_type": "markdown",
   "id": "5fb90fa5",
   "metadata": {},
   "source": []
  },
  {
   "cell_type": "code",
   "execution_count": null,
   "id": "e8b3ec79",
   "metadata": {},
   "outputs": [],
   "source": []
  },
  {
   "cell_type": "markdown",
   "id": "c4cc885d",
   "metadata": {},
   "source": [
    "### Replacing Special tags"
   ]
  },
  {
   "cell_type": "code",
   "execution_count": 19,
   "id": "4797f7f5",
   "metadata": {},
   "outputs": [
    {
     "data": {
      "text/plain": [
       "OrderedDict([('id', String),\n",
       "             ('text', String),\n",
       "             ('sent_spans', List(Struct({'end': Int64, 'start': Int64}))),\n",
       "             ('punct_spans',\n",
       "              List(Struct({'end': Int64, 'start': Int64, 'value': String}))),\n",
       "             ('special_tags',\n",
       "              List(Struct({'end': Int64, 'start': Int64, 'type': String, 'value': String}))),\n",
       "             ('ner_spans',\n",
       "              List(Struct({'end': Int64, 'entity_id': String, 'label': String, 'start': Int64}))),\n",
       "             ('pos_tokens', List(String)),\n",
       "             ('pos_tags', List(String)),\n",
       "             ('ner_iob', List(String))])"
      ]
     },
     "execution_count": 19,
     "metadata": {},
     "output_type": "execute_result"
    }
   ],
   "source": [
    "# create lazy frame object\n",
    "lf = pl.scan_parquet(\"gs://parquet_v2_openwebtext-with-pos-ner/batch_*.parquet\")\n",
    "\n",
    "# select columns\n",
    "lf.schema"
   ]
  },
  {
   "cell_type": "code",
   "execution_count": 22,
   "id": "32aefde1",
   "metadata": {},
   "outputs": [],
   "source": [
    "# Configuration of replacement tokens\n",
    "TAG_REPLACE_CFG = {\n",
    "    \"URL\": \"<URL>\",\n",
    "    \"EMAIL\": \"<EMAIL>\",\n",
    "    \"PHONE\": \"<PHONE>\",\n",
    "    \"ADDRESS\": \"<ADDRESS>\",\n",
    "    # ... any other tags\n",
    "}"
   ]
  },
  {
   "cell_type": "code",
   "execution_count": 23,
   "id": "cb5c00e1",
   "metadata": {},
   "outputs": [],
   "source": [
    "\n",
    "\n",
    "def replace_spans(text: Optional[str], special_tags: Optional[List[Dict[str, Any]]]) -> Optional[str]:\n",
    "    \"\"\"\n",
    "    Core function: Replaces spans in a single text string based on a list of tags.\n",
    "    It performs replacements in reverse order to maintain correct indices.\n",
    "    \"\"\"\n",
    "    if text is None or special_tags is None or not text:\n",
    "        return text\n",
    "\n",
    "    # Filter and validate tags\n",
    "    valid_tags = [\n",
    "        tag for tag in special_tags\n",
    "        if tag is not None and \n",
    "           all(key in tag for key in ['start', 'end', 'label']) and \n",
    "           isinstance(tag.get('start'), int) and isinstance(tag.get('end'), int)\n",
    "    ]\n",
    "    \n",
    "    if not valid_tags:\n",
    "        return text\n",
    "\n",
    "    # CRITICAL: Sort in reverse order by start index\n",
    "    sorted_tags = sorted(valid_tags, key=lambda x: x['start'], reverse=True)\n",
    "    \n",
    "    modified_text = text\n",
    "    \n",
    "    for tag in sorted_tags:\n",
    "        start = tag['start']\n",
    "        end = tag['end']\n",
    "        tag_type = tag.get('label', '').upper()\n",
    "        \n",
    "        # Sanity check\n",
    "        if start < 0 or end > len(modified_text) or start >= end:\n",
    "            continue\n",
    "            \n",
    "        replacement = TAG_REPLACE_CFG.get(tag_type, modified_text[start:end])\n",
    "        \n",
    "        # String slicing replacement\n",
    "        modified_text = modified_text[:start] + replacement + modified_text[end:]\n",
    "        \n",
    "    return modified_text"
   ]
  },
  {
   "cell_type": "markdown",
   "id": "91394fb7",
   "metadata": {},
   "source": []
  },
  {
   "cell_type": "code",
   "execution_count": 26,
   "id": "497d0084",
   "metadata": {},
   "outputs": [
    {
     "name": "stderr",
     "output_type": "stream",
     "text": [
      "C:\\Users\\ASUS\\AppData\\Local\\Temp\\ipykernel_35772\\3512787032.py:5: DeprecationWarning: `lengths` is deprecated. It has been renamed to `len`.\n",
      "  (pl.col(\"special_tags\").is_not_null()) & (pl.col(\"special_tags\").list.lengths() > 0)\n"
     ]
    },
    {
     "data": {
      "text/html": [
       "<div><style>\n",
       ".dataframe > thead > tr,\n",
       ".dataframe > tbody > tr {\n",
       "  text-align: right;\n",
       "  white-space: pre-wrap;\n",
       "}\n",
       "</style>\n",
       "<small>shape: (5, 9)</small><table border=\"1\" class=\"dataframe\"><thead><tr><th>id</th><th>text</th><th>sent_spans</th><th>punct_spans</th><th>special_tags</th><th>ner_spans</th><th>pos_tokens</th><th>pos_tags</th><th>ner_iob</th></tr><tr><td>str</td><td>str</td><td>list[struct[2]]</td><td>list[struct[3]]</td><td>list[struct[4]]</td><td>list[struct[4]]</td><td>list[str]</td><td>list[str]</td><td>list[str]</td></tr></thead><tbody><tr><td>&quot;sent_3972b602-bb67-4969-8c4f-6c20599dcf4e&quot;</td><td>&quot;The opinions expressed by columnists are their own and do not represent the views of Townhall.com.\n",
       "\n",
       "You have to give President Barack Obama credit for one thing: consistency. Nothing is ever his fault…</td><td>[{98,0}, {100,98}, … {6021,5991}]</td><td>[{94,93,&quot;.&quot;}, {98,97,&quot;.&quot;}, … {6021,6020,&quot;.&quot;}]</td><td>[{97,85,&quot;URL&quot;,&quot;Townhall.com&quot;}]</td><td>[{139,&quot;PERSON-BARACK_OBAMA&quot;,&quot;PERSON&quot;,127}, {154,&quot;CARDINAL-ONE&quot;,&quot;CARDINAL&quot;,151}, … {6020,&quot;GPE-AMERICA&quot;,&quot;GPE&quot;,6013}]</td><td>[&quot;The&quot;, &quot;opinions&quot;, … &quot;.&quot;]</td><td>[&quot;DET&quot;, &quot;NOUN&quot;, … &quot;PUNCT&quot;]</td><td>[&quot;O&quot;, &quot;O&quot;, … &quot;O&quot;]</td></tr><tr><td>&quot;sent_30f31821-cf62-46f9-8c23-66ac5970cb13&quot;</td><td>&quot;Introduction\n",
       "\n",
       "On Feb. 1, 2017, the United States led Coalition was accused by local activists and journalists that it had bombed the headquarters of the Syrian Arab Red Crescent (SARC) located in the …</td><td>[{12,0}, {14,12}, … {8585,8464}]</td><td>[{21,20,&quot;.&quot;}, {24,23,&quot;,&quot;}, … {8585,8584,&quot;.&quot;}]</td><td>[{3646,3628,&quot;URL&quot;,&quot;hotelscombined.com&quot;}, {3866,3856,&quot;URL&quot;,&quot;esyria.net&quot;}, {3893,3882,&quot;URL&quot;,&quot;dp-news.com&quot;}]</td><td>[{29,&quot;DATE-FEB._1,_2017&quot;,&quot;DATE&quot;,17}, {48,&quot;GPE-UNITED_STATES&quot;,&quot;GPE&quot;,35}, … {8556,&quot;GPE-IDLIB&quot;,&quot;GPE&quot;,8551}]</td><td>[&quot;Introduction&quot;, &quot;On&quot;, … &quot;.&quot;]</td><td>[&quot;NOUN&quot;, &quot;ADP&quot;, … &quot;PUNCT&quot;]</td><td>[&quot;O&quot;, &quot;O&quot;, … &quot;O&quot;]</td></tr><tr><td>&quot;sent_4b311934-e54a-44e7-9597-ad7ffa6af9ea&quot;</td><td>&quot;Whenever something momentous happens in superhero comics history, mysterious figures always seem to appear and observe proceedings. In the Marvel Universe, it&#x27;s the Watcher (we still have no idea why …</td><td>[{131,0}, {242,132}, … {22954,22865}]</td><td>[{65,64,&quot;,&quot;}, {131,130,&quot;.&quot;}, … {22954,22953,&quot;.&quot;}]</td><td>[{15782,15770,&quot;ADDRESS&quot;,&quot;1 take place&quot;}]</td><td>[{172,&quot;PERSON-WATCHER&quot;,&quot;PERSON&quot;,165}, {227,&quot;PERSON-BLACK_PANTHER&quot;,&quot;PERSON&quot;,214}, … {22898,&quot;ORG-DCU&quot;,&quot;ORG&quot;,22895}]</td><td>[&quot;Whenever&quot;, &quot;something&quot;, … &quot;.&quot;]</td><td>[&quot;SCONJ&quot;, &quot;PRON&quot;, … &quot;PUNCT&quot;]</td><td>[&quot;O&quot;, &quot;O&quot;, … &quot;O&quot;]</td></tr><tr><td>&quot;sent_f9b63eb4-46ec-433e-adac-55dfdf574e47&quot;</td><td>&quot;Executive summary\n",
       "\n",
       "This paper reviews the empirical literature on the employment effects of increases in the minimum wage. It organizes the most prominent studies in this literature by their use of tw…</td><td>[{17,0}, {19,17}, … {45697,45657}]</td><td>[{122,121,&quot;.&quot;}, {233,232,&quot;:&quot;}, … {45697,45696,&quot;.&quot;}]</td><td>[{41183,41130,&quot;URL&quot;,&quot;http://www.irle.berkeley.edu/workingpapers/148-13.pdf&quot;}, {42787,42694,&quot;URL&quot;,&quot;http://www.irle.berkeley.edu/events/spring14/zipperer/dubezipperer_pooledsyntheticcontrol.pdf&quot;}, {45696,45657,&quot;URL&quot;,&quot;http://www.ukcpr.org/AvailableData.aspx&quot;}]</td><td>[{201,&quot;CARDINAL-TWO&quot;,&quot;CARDINAL&quot;,198}, {1670,&quot;PERSON-HARRY_TRUMAN&quot;,&quot;PERSON&quot;,1658}, … {45566,&quot;DATE-2012&quot;,&quot;DATE&quot;,45562}]</td><td>[&quot;Executive&quot;, &quot;summary&quot;, … &quot;.&quot;]</td><td>[&quot;ADJ&quot;, &quot;NOUN&quot;, … &quot;PUNCT&quot;]</td><td>[&quot;O&quot;, &quot;O&quot;, … &quot;O&quot;]</td></tr><tr><td>&quot;sent_ced5a3dc-d7c6-4d7d-979f-43c1cc0622ac&quot;</td><td>&quot;If you&#x27;re waiting for someone who has to drive in San Francisco, especially around the Moscone Center area, take a deep breath and get comfortable. A giant tech conference is in town and it&#x27;s causing …</td><td>[{147,0}, {232,148}, … {3574,3439}]</td><td>[{7,6,&quot;&#x27;&quot;}, {64,63,&quot;,&quot;}, … {3574,3573,&quot;.&quot;}]</td><td>[{3531,3507,&quot;ADDRESS&quot;,&quot;150 parties taking place&quot;}]</td><td>[{63,&quot;GPE-SAN_FRANCISCO&quot;,&quot;GPE&quot;,50}, {101,&quot;FAC-MOSCONE_CENTER&quot;,&quot;FAC&quot;,87}, … {3573,&quot;DATE-FROM_NOV._6_TO_NOV._9&quot;,&quot;DATE&quot;,3552}]</td><td>[&quot;If&quot;, &quot;you&quot;, … &quot;.&quot;]</td><td>[&quot;SCONJ&quot;, &quot;PRON&quot;, … &quot;PUNCT&quot;]</td><td>[&quot;O&quot;, &quot;O&quot;, … &quot;O&quot;]</td></tr></tbody></table></div>"
      ],
      "text/plain": [
       "shape: (5, 9)\n",
       "┌──────────────────────┬──────────────────────┬──────────────────────┬─────────────────────┬─────────────────────┬─────────────────────┬─────────────────────┬─────────────────────┬───────────────────┐\n",
       "│ id                   ┆ text                 ┆ sent_spans           ┆ punct_spans         ┆ special_tags        ┆ ner_spans           ┆ pos_tokens          ┆ pos_tags            ┆ ner_iob           │\n",
       "│ ---                  ┆ ---                  ┆ ---                  ┆ ---                 ┆ ---                 ┆ ---                 ┆ ---                 ┆ ---                 ┆ ---               │\n",
       "│ str                  ┆ str                  ┆ list[struct[2]]      ┆ list[struct[3]]     ┆ list[struct[4]]     ┆ list[struct[4]]     ┆ list[str]           ┆ list[str]           ┆ list[str]         │\n",
       "╞══════════════════════╪══════════════════════╪══════════════════════╪═════════════════════╪═════════════════════╪═════════════════════╪═════════════════════╪═════════════════════╪═══════════════════╡\n",
       "│ sent_3972b602-bb67-4 ┆ The opinions         ┆ [{98,0}, {100,98}, … ┆ [{94,93,\".\"},       ┆ [{97,85,\"URL\",\"Town ┆ [{139,\"PERSON-BARAC ┆ [\"The\", \"opinions\", ┆ [\"DET\", \"NOUN\", …   ┆ [\"O\", \"O\", … \"O\"] │\n",
       "│ 969-8c4f-6c20599dcf4 ┆ expressed by         ┆ {6021,5991}]         ┆ {98,97,\".\"}, …      ┆ hall.com\"}]         ┆ K_OBAMA\",\"PERSON\",1 ┆ … \".\"]              ┆ \"PUNCT\"]            ┆                   │\n",
       "│ e                    ┆ columnists are their ┆                      ┆ {6021,6020,\".\"}]    ┆                     ┆ 27}, {154,\"CARDINAL ┆                     ┆                     ┆                   │\n",
       "│                      ┆ own and do not       ┆                      ┆                     ┆                     ┆ -ONE\",\"CARDINAL\",15 ┆                     ┆                     ┆                   │\n",
       "│                      ┆ represent the views  ┆                      ┆                     ┆                     ┆ 1}, … {6020,\"GPE-AM ┆                     ┆                     ┆                   │\n",
       "│                      ┆ of Townhall.com.     ┆                      ┆                     ┆                     ┆ ERICA\",\"GPE\",6013}] ┆                     ┆                     ┆                   │\n",
       "│                      ┆                      ┆                      ┆                     ┆                     ┆                     ┆                     ┆                     ┆                   │\n",
       "│                      ┆ You have to give     ┆                      ┆                     ┆                     ┆                     ┆                     ┆                     ┆                   │\n",
       "│                      ┆ President Barack     ┆                      ┆                     ┆                     ┆                     ┆                     ┆                     ┆                   │\n",
       "│                      ┆ Obama credit for one ┆                      ┆                     ┆                     ┆                     ┆                     ┆                     ┆                   │\n",
       "│                      ┆ thing: consistency.  ┆                      ┆                     ┆                     ┆                     ┆                     ┆                     ┆                   │\n",
       "│                      ┆ Nothing is ever his  ┆                      ┆                     ┆                     ┆                     ┆                     ┆                     ┆                   │\n",
       "│                      ┆ fault…               ┆                      ┆                     ┆                     ┆                     ┆                     ┆                     ┆                   │\n",
       "│ sent_30f31821-cf62-4 ┆ Introduction         ┆ [{12,0}, {14,12}, …  ┆ [{21,20,\".\"},       ┆ [{3646,3628,\"URL\",\" ┆ [{29,\"DATE-FEB._1,_ ┆ [\"Introduction\",    ┆ [\"NOUN\", \"ADP\", …   ┆ [\"O\", \"O\", … \"O\"] │\n",
       "│ 6f9-8c23-66ac5970cb1 ┆                      ┆ {8585,8464}]         ┆ {24,23,\",\"}, …      ┆ hotelscombined.com\" ┆ 2017\",\"DATE\",17},   ┆ \"On\", … \".\"]        ┆ \"PUNCT\"]            ┆                   │\n",
       "│ 3                    ┆ On Feb. 1, 2017, the ┆                      ┆ {8585,8584,\".\"}]    ┆ }, {3866,3856,\"URL\" ┆ {48,\"GPE-UNITED_STA ┆                     ┆                     ┆                   │\n",
       "│                      ┆ United States led    ┆                      ┆                     ┆ ,\"esyria.net\"}, {38 ┆ TES\",\"GPE\",35}, …   ┆                     ┆                     ┆                   │\n",
       "│                      ┆ Coalition was        ┆                      ┆                     ┆ 93,3882,\"URL\",\"dp-n ┆ {8556,\"GPE-IDLIB\",\" ┆                     ┆                     ┆                   │\n",
       "│                      ┆ accused by local     ┆                      ┆                     ┆ ews.com\"}]          ┆ GPE\",8551}]         ┆                     ┆                     ┆                   │\n",
       "│                      ┆ activists and        ┆                      ┆                     ┆                     ┆                     ┆                     ┆                     ┆                   │\n",
       "│                      ┆ journalists that it  ┆                      ┆                     ┆                     ┆                     ┆                     ┆                     ┆                   │\n",
       "│                      ┆ had bombed the       ┆                      ┆                     ┆                     ┆                     ┆                     ┆                     ┆                   │\n",
       "│                      ┆ headquarters of the  ┆                      ┆                     ┆                     ┆                     ┆                     ┆                     ┆                   │\n",
       "│                      ┆ Syrian Arab Red      ┆                      ┆                     ┆                     ┆                     ┆                     ┆                     ┆                   │\n",
       "│                      ┆ Crescent (SARC)      ┆                      ┆                     ┆                     ┆                     ┆                     ┆                     ┆                   │\n",
       "│                      ┆ located in the …     ┆                      ┆                     ┆                     ┆                     ┆                     ┆                     ┆                   │\n",
       "│ sent_4b311934-e54a-4 ┆ Whenever something   ┆ [{131,0}, {242,132}, ┆ [{65,64,\",\"},       ┆ [{15782,15770,\"ADDR ┆ [{172,\"PERSON-WATCH ┆ [\"Whenever\",        ┆ [\"SCONJ\", \"PRON\", … ┆ [\"O\", \"O\", … \"O\"] │\n",
       "│ 4e7-9597-ad7ffa6af9e ┆ momentous happens in ┆ … {22954,22865}]     ┆ {131,130,\".\"}, …    ┆ ESS\",\"1 take        ┆ ER\",\"PERSON\",165},  ┆ \"something\", … \".\"] ┆ \"PUNCT\"]            ┆                   │\n",
       "│ a                    ┆ superhero comics     ┆                      ┆ {22954,22953,\".\"}]  ┆ place\"}]            ┆ {227,\"PERSON-BLACK_ ┆                     ┆                     ┆                   │\n",
       "│                      ┆ history, mysterious  ┆                      ┆                     ┆                     ┆ PANTHER\",\"PERSON\",2 ┆                     ┆                     ┆                   │\n",
       "│                      ┆ figures always seem  ┆                      ┆                     ┆                     ┆ 14}, … {22898,\"ORG- ┆                     ┆                     ┆                   │\n",
       "│                      ┆ to appear and        ┆                      ┆                     ┆                     ┆ DCU\",\"ORG\",22895}]  ┆                     ┆                     ┆                   │\n",
       "│                      ┆ observe proceedings. ┆                      ┆                     ┆                     ┆                     ┆                     ┆                     ┆                   │\n",
       "│                      ┆ In the Marvel        ┆                      ┆                     ┆                     ┆                     ┆                     ┆                     ┆                   │\n",
       "│                      ┆ Universe, it's the   ┆                      ┆                     ┆                     ┆                     ┆                     ┆                     ┆                   │\n",
       "│                      ┆ Watcher (we still    ┆                      ┆                     ┆                     ┆                     ┆                     ┆                     ┆                   │\n",
       "│                      ┆ have no idea why …   ┆                      ┆                     ┆                     ┆                     ┆                     ┆                     ┆                   │\n",
       "│ sent_f9b63eb4-46ec-4 ┆ Executive summary    ┆ [{17,0}, {19,17}, …  ┆ [{122,121,\".\"},     ┆ [{41183,41130,\"URL\" ┆ [{201,\"CARDINAL-TWO ┆ [\"Executive\",       ┆ [\"ADJ\", \"NOUN\", …   ┆ [\"O\", \"O\", … \"O\"] │\n",
       "│ 33e-adac-55dfdf574e4 ┆                      ┆ {45697,45657}]       ┆ {233,232,\":\"}, …    ┆ ,\"http://www.irle.b ┆ \",\"CARDINAL\",198},  ┆ \"summary\", … \".\"]   ┆ \"PUNCT\"]            ┆                   │\n",
       "│ 7                    ┆ This paper reviews   ┆                      ┆ {45697,45696,\".\"}]  ┆ erkeley.edu/working ┆ {1670,\"PERSON-HARRY ┆                     ┆                     ┆                   │\n",
       "│                      ┆ the empirical        ┆                      ┆                     ┆ papers/148-13.pdf\"} ┆ _TRUMAN\",\"PERSON\",1 ┆                     ┆                     ┆                   │\n",
       "│                      ┆ literature on the    ┆                      ┆                     ┆ , {42787,42694,\"URL ┆ 658}, … {45566,\"DAT ┆                     ┆                     ┆                   │\n",
       "│                      ┆ employment effects   ┆                      ┆                     ┆ \",\"http://www.irle. ┆ E-2012\",\"DATE\",4556 ┆                     ┆                     ┆                   │\n",
       "│                      ┆ of increases in the  ┆                      ┆                     ┆ berkeley.edu/events ┆ 2}]                 ┆                     ┆                     ┆                   │\n",
       "│                      ┆ minimum wage. It     ┆                      ┆                     ┆ /spring14/zipperer/ ┆                     ┆                     ┆                     ┆                   │\n",
       "│                      ┆ organizes the most   ┆                      ┆                     ┆ dubezipperer_pooled ┆                     ┆                     ┆                     ┆                   │\n",
       "│                      ┆ prominent studies in ┆                      ┆                     ┆ syntheticcontrol.pd ┆                     ┆                     ┆                     ┆                   │\n",
       "│                      ┆ this literature by   ┆                      ┆                     ┆ f\"}, {4569…         ┆                     ┆                     ┆                     ┆                   │\n",
       "│                      ┆ their use of tw…     ┆                      ┆                     ┆                     ┆                     ┆                     ┆                     ┆                   │\n",
       "│ sent_ced5a3dc-d7c6-4 ┆ If you're waiting    ┆ [{147,0}, {232,148}, ┆ [{7,6,\"'\"},         ┆ [{3531,3507,\"ADDRES ┆ [{63,\"GPE-SAN_FRANC ┆ [\"If\", \"you\", …     ┆ [\"SCONJ\", \"PRON\", … ┆ [\"O\", \"O\", … \"O\"] │\n",
       "│ d7d-979f-43c1cc0622a ┆ for someone who has  ┆ … {3574,3439}]       ┆ {64,63,\",\"}, …      ┆ S\",\"150 parties     ┆ ISCO\",\"GPE\",50},    ┆ \".\"]                ┆ \"PUNCT\"]            ┆                   │\n",
       "│ c                    ┆ to drive in San      ┆                      ┆ {3574,3573,\".\"}]    ┆ taking place\"}]     ┆ {101,\"FAC-MOSCONE_C ┆                     ┆                     ┆                   │\n",
       "│                      ┆ Francisco,           ┆                      ┆                     ┆                     ┆ ENTER\",\"FAC\",87}, … ┆                     ┆                     ┆                   │\n",
       "│                      ┆ especially around    ┆                      ┆                     ┆                     ┆ {3573,\"DATE-FROM_NO ┆                     ┆                     ┆                   │\n",
       "│                      ┆ the Moscone Center   ┆                      ┆                     ┆                     ┆ V._6_TO_NOV._9\",\"DA ┆                     ┆                     ┆                   │\n",
       "│                      ┆ area, take a deep    ┆                      ┆                     ┆                     ┆ TE\",3552}]          ┆                     ┆                     ┆                   │\n",
       "│                      ┆ breath and get       ┆                      ┆                     ┆                     ┆                     ┆                     ┆                     ┆                   │\n",
       "│                      ┆ comfortable. A giant ┆                      ┆                     ┆                     ┆                     ┆                     ┆                     ┆                   │\n",
       "│                      ┆ tech conference is   ┆                      ┆                     ┆                     ┆                     ┆                     ┆                     ┆                   │\n",
       "│                      ┆ in town and it's     ┆                      ┆                     ┆                     ┆                     ┆                     ┆                     ┆                   │\n",
       "│                      ┆ causing …            ┆                      ┆                     ┆                     ┆                     ┆                     ┆                     ┆                   │\n",
       "└──────────────────────┴──────────────────────┴──────────────────────┴─────────────────────┴─────────────────────┴─────────────────────┴─────────────────────┴─────────────────────┴───────────────────┘"
      ]
     },
     "execution_count": 26,
     "metadata": {},
     "output_type": "execute_result"
    }
   ],
   "source": [
    "# Assuming you have a DataFrame named `df` with a 'special_tags' column\n",
    "\n",
    "# Filter rows where 'special_tags' is not None and not empty\n",
    "non_empty_special_tags = lf.filter(\n",
    "    (pl.col(\"special_tags\").is_not_null()) & (pl.col(\"special_tags\").list.lengths() > 0)\n",
    ")\n",
    "\n",
    "# Get the first 100 entries\n",
    "first_100 = non_empty_special_tags.head(5)\n",
    "\n",
    "first_100.collect()\n"
   ]
  },
  {
   "cell_type": "code",
   "execution_count": 27,
   "id": "96b59b03",
   "metadata": {},
   "outputs": [],
   "source": [
    "import re\n",
    "\n",
    "TYPE_REGEX = re.compile(r'\\{\\s*\\d+,\\s*\\d+,\\s*\"([^\"]+)\"\\s*,\\s*\"[^\"]*\"\\s*\\}')\n",
    "def extract_entity_types(span_blob: str) -> list[str]:\n",
    "    return sorted(set(TYPE_REGEX.findall(span_blob)))"
   ]
  },
  {
   "cell_type": "code",
   "execution_count": 30,
   "id": "f88092f4",
   "metadata": {},
   "outputs": [
    {
     "ename": "FileNotFoundError",
     "evalue": "The system cannot find the file specified. (os error 2): data.parquet\n\nThis error occurred with the following context stack:\n\t[1] 'parquet scan' failed\n\t[2] 'filter' input failed to resolve\n\t[3] 'with_columns' input failed to resolve\n\t[4] 'select' input failed to resolve\n\t[5] 'slice' input failed to resolve\n",
     "output_type": "error",
     "traceback": [
      "\u001b[1;31m---------------------------------------------------------------------------\u001b[0m",
      "\u001b[1;31mFileNotFoundError\u001b[0m                         Traceback (most recent call last)",
      "Cell \u001b[1;32mIn[30], line 132\u001b[0m\n\u001b[0;32m    129\u001b[0m     \u001b[38;5;28;01mreturn\u001b[39;00m ldf\u001b[38;5;241m.\u001b[39mcollect()\n\u001b[0;32m    131\u001b[0m \u001b[38;5;66;03m# Example:\u001b[39;00m\n\u001b[1;32m--> 132\u001b[0m df_sample \u001b[38;5;241m=\u001b[39m \u001b[43msample_mask_urls_emails_without_regex\u001b[49m\u001b[43m(\u001b[49m\u001b[38;5;124;43m\"\u001b[39;49m\u001b[38;5;124;43mdata.parquet\u001b[39;49m\u001b[38;5;124;43m\"\u001b[39;49m\u001b[43m,\u001b[49m\u001b[43m \u001b[49m\u001b[38;5;124;43m\"\u001b[39;49m\u001b[38;5;124;43mtext\u001b[39;49m\u001b[38;5;124;43m\"\u001b[39;49m\u001b[43m,\u001b[49m\u001b[43m \u001b[49m\u001b[38;5;124;43m\"\u001b[39;49m\u001b[38;5;124;43mspecial_tags\u001b[39;49m\u001b[38;5;124;43m\"\u001b[39;49m\u001b[43m,\u001b[49m\u001b[43m \u001b[49m\u001b[38;5;241;43m10\u001b[39;49m\u001b[43m)\u001b[49m\n\u001b[0;32m    133\u001b[0m df_sample\u001b[38;5;241m.\u001b[39mwrite_parquet(\u001b[38;5;124m\"\u001b[39m\u001b[38;5;124mmasked_sample.parquet\u001b[39m\u001b[38;5;124m\"\u001b[39m)\n",
      "Cell \u001b[1;32mIn[30], line 129\u001b[0m, in \u001b[0;36msample_mask_urls_emails_without_regex\u001b[1;34m(parquet_path, text_col, tags_col, sample_rows)\u001b[0m\n\u001b[0;32m    109\u001b[0m \u001b[38;5;28;01mdef\u001b[39;00m\u001b[38;5;250m \u001b[39m\u001b[38;5;21msample_mask_urls_emails_without_regex\u001b[39m(\n\u001b[0;32m    110\u001b[0m     parquet_path: \u001b[38;5;28mstr\u001b[39m,\n\u001b[0;32m    111\u001b[0m     text_col: \u001b[38;5;28mstr\u001b[39m \u001b[38;5;241m=\u001b[39m \u001b[38;5;124m\"\u001b[39m\u001b[38;5;124mtext\u001b[39m\u001b[38;5;124m\"\u001b[39m,\n\u001b[0;32m    112\u001b[0m     tags_col: \u001b[38;5;28mstr\u001b[39m \u001b[38;5;241m=\u001b[39m \u001b[38;5;124m\"\u001b[39m\u001b[38;5;124mspecial_tags\u001b[39m\u001b[38;5;124m\"\u001b[39m,\n\u001b[0;32m    113\u001b[0m     sample_rows: \u001b[38;5;28mint\u001b[39m \u001b[38;5;241m=\u001b[39m \u001b[38;5;241m100\u001b[39m,\n\u001b[0;32m    114\u001b[0m ) \u001b[38;5;241m-\u001b[39m\u001b[38;5;241m>\u001b[39m pl\u001b[38;5;241m.\u001b[39mDataFrame:\n\u001b[0;32m    115\u001b[0m     ldf \u001b[38;5;241m=\u001b[39m (\n\u001b[0;32m    116\u001b[0m         pl\u001b[38;5;241m.\u001b[39mscan_parquet(parquet_path)\n\u001b[0;32m    117\u001b[0m         \u001b[38;5;241m.\u001b[39mfilter(\n\u001b[1;32m   (...)\u001b[0m\n\u001b[0;32m    127\u001b[0m         \u001b[38;5;241m.\u001b[39mlimit(sample_rows)\n\u001b[0;32m    128\u001b[0m     )\n\u001b[1;32m--> 129\u001b[0m     \u001b[38;5;28;01mreturn\u001b[39;00m \u001b[43mldf\u001b[49m\u001b[38;5;241;43m.\u001b[39;49m\u001b[43mcollect\u001b[49m\u001b[43m(\u001b[49m\u001b[43m)\u001b[49m\n",
      "File \u001b[1;32mc:\\Users\\ASUS\\anaconda3\\envs\\not-to-know-v2\\lib\\site-packages\\polars\\lazyframe\\frame.py:1816\u001b[0m, in \u001b[0;36mLazyFrame.collect\u001b[1;34m(self, type_coercion, predicate_pushdown, projection_pushdown, simplify_expression, slice_pushdown, comm_subplan_elim, comm_subexpr_elim, no_optimization, streaming, background, _eager, **_kwargs)\u001b[0m\n\u001b[0;32m   1813\u001b[0m \u001b[38;5;66;03m# Only for testing purposes atm.\u001b[39;00m\n\u001b[0;32m   1814\u001b[0m callback \u001b[38;5;241m=\u001b[39m _kwargs\u001b[38;5;241m.\u001b[39mget(\u001b[38;5;124m\"\u001b[39m\u001b[38;5;124mpost_opt_callback\u001b[39m\u001b[38;5;124m\"\u001b[39m)\n\u001b[1;32m-> 1816\u001b[0m \u001b[38;5;28;01mreturn\u001b[39;00m wrap_df(\u001b[43mldf\u001b[49m\u001b[38;5;241;43m.\u001b[39;49m\u001b[43mcollect\u001b[49m\u001b[43m(\u001b[49m\u001b[43mcallback\u001b[49m\u001b[43m)\u001b[49m)\n",
      "\u001b[1;31mFileNotFoundError\u001b[0m: The system cannot find the file specified. (os error 2): data.parquet\n\nThis error occurred with the following context stack:\n\t[1] 'parquet scan' failed\n\t[2] 'filter' input failed to resolve\n\t[3] 'with_columns' input failed to resolve\n\t[4] 'select' input failed to resolve\n\t[5] 'slice' input failed to resolve\n"
     ]
    }
   ],
   "source": [
    "import polars as pl\n",
    "\n",
    "# --- parsing and masking helpers (no regex on text) ---\n",
    "\n",
    "def _parse_special_tags(blob: str):\n",
    "    # Parse strings like:\n",
    "    # [{41183,41130,\"URL\",\"http://...\"}, {3531,3507,\"EMAIL\",\"john@doe.com\"}]\n",
    "    if not blob:\n",
    "        return []\n",
    "    out = []\n",
    "    i, n = 0, len(blob)\n",
    "\n",
    "    def skip_ws(j):\n",
    "        while j < n and blob[j].isspace():\n",
    "            j += 1\n",
    "        return j\n",
    "\n",
    "    def parse_int(j):\n",
    "        j = skip_ws(j)\n",
    "        k = j\n",
    "        while k < n and blob[k].isdigit():\n",
    "            k += 1\n",
    "        return int(blob[j:k]), k\n",
    "\n",
    "    def parse_quoted(j):\n",
    "        j = skip_ws(j)\n",
    "        assert blob[j] == '\"'\n",
    "        j += 1\n",
    "        s = []\n",
    "        while j < n and blob[j] != '\"':\n",
    "            s.append(blob[j])\n",
    "            j += 1\n",
    "        assert j < n and blob[j] == '\"'\n",
    "        return \"\".join(s), j + 1\n",
    "\n",
    "    while i < n:\n",
    "        i = skip_ws(i)\n",
    "        if i >= n:\n",
    "            break\n",
    "        if blob[i] == '{':\n",
    "            i += 1\n",
    "            start, i = parse_int(i)\n",
    "            i = skip_ws(i + 1)  # skip comma\n",
    "            end, i = parse_int(i)\n",
    "            i = skip_ws(i + 1)\n",
    "            typ, i = parse_quoted(i)\n",
    "            i = skip_ws(i + 1)\n",
    "            val, i = parse_quoted(i)\n",
    "            # move past closing brace if present\n",
    "            while i < n and blob[i] != '}':\n",
    "                i += 1\n",
    "            if i < n and blob[i] == '}':\n",
    "                i += 1\n",
    "            out.append({\"start\": start, \"end\": end, \"type\": typ, \"value\": val})\n",
    "        else:\n",
    "            i += 1\n",
    "    return out\n",
    "\n",
    "def _mask_text_with_spans(text: str, spans: list[dict]) -> str:\n",
    "    if not text or not spans:\n",
    "        return text\n",
    "\n",
    "    # Keep only EMAIL/URL, normalize bounds, and choose replacement label\n",
    "    norm = []\n",
    "    for s in spans:\n",
    "        t = s.get(\"type\")\n",
    "        if t not in (\"EMAIL\", \"URL\"):\n",
    "            continue\n",
    "        a, b = sorted((int(s[\"start\"]), int(s[\"end\"])))\n",
    "        if a == b:\n",
    "            continue\n",
    "        repl = \"<EMAIL>\" if t == \"EMAIL\" else \"<URL>\"\n",
    "        # clamp\n",
    "        a = max(0, min(len(text), a))\n",
    "        b = max(0, min(len(text), b))\n",
    "        if a < b:\n",
    "            norm.append((a, b, repl))\n",
    "\n",
    "    if not norm:\n",
    "        return text\n",
    "\n",
    "    # Sort and merge overlaps; prefer longer span on overlap\n",
    "    norm.sort(key=lambda x: (x[0], -x[1]))\n",
    "    merged = []\n",
    "    for a, b, repl in norm:\n",
    "        if not merged or a > merged[-1][1]:\n",
    "            merged.append([a, b, repl])\n",
    "        else:\n",
    "            # overlap: extend if longer; keep earlier repl if equal\n",
    "            if b > merged[-1][1]:\n",
    "                merged[-1][1] = b\n",
    "                merged[-1][2] = repl\n",
    "\n",
    "    # Build output\n",
    "    out, cur = [], 0\n",
    "    for a, b, repl in merged:\n",
    "        out.append(text[cur:a])\n",
    "        out.append(repl)\n",
    "        cur = b\n",
    "    out.append(text[cur:])\n",
    "    return \"\".join(out)\n",
    "\n",
    "def mask_from_blob(text: str, blob: str) -> str:\n",
    "    spans = _parse_special_tags(blob)\n",
    "    return _mask_text_with_spans(text, spans)\n",
    "\n",
    "# --- lazy Polars flow: sample 100 rows and mask ---\n",
    "\n",
    "def sample_mask_urls_emails_without_regex(\n",
    "    parquet_path: str,\n",
    "    text_col: str = \"text\",\n",
    "    tags_col: str = \"special_tags\",\n",
    "    sample_rows: int = 100,\n",
    ") -> pl.DataFrame:\n",
    "    ldf = (\n",
    "        pl.scan_parquet(parquet_path)\n",
    "        .filter(\n",
    "            pl.col(text_col).is_not_null() & (pl.col(text_col).str.len_chars() > 0)\n",
    "            & pl.col(tags_col).is_not_null() & (pl.col(tags_col).str.len_chars() > 2)\n",
    "        )\n",
    "        .with_columns(\n",
    "            pl.struct([text_col, tags_col])\n",
    "            .map_elements(lambda s: mask_from_blob(s[text_col], s[tags_col]), return_dtype=pl.Utf8)\n",
    "            .alias(\"text_masked\")\n",
    "        )\n",
    "        .select(pl.all(), \"text_masked\")\n",
    "        .limit(sample_rows)\n",
    "    )\n",
    "    return ldf.collect()\n",
    "\n",
    "# Example:\n",
    "df_sample = sample_mask_urls_emails_without_regex(\"data.parquet\", \"text\", \"special_tags\", 10)\n",
    "df_sample.write_parquet(\"masked_sample.parquet\")"
   ]
  },
  {
   "cell_type": "code",
   "execution_count": null,
   "id": "775e9d80",
   "metadata": {},
   "outputs": [],
   "source": []
  }
 ],
 "metadata": {
  "kernelspec": {
   "display_name": "not-to-know-v2",
   "language": "python",
   "name": "python3"
  },
  "language_info": {
   "codemirror_mode": {
    "name": "ipython",
    "version": 3
   },
   "file_extension": ".py",
   "mimetype": "text/x-python",
   "name": "python",
   "nbconvert_exporter": "python",
   "pygments_lexer": "ipython3",
   "version": "3.10.18"
  }
 },
 "nbformat": 4,
 "nbformat_minor": 5
}
