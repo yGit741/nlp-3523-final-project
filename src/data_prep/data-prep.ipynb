{
 "cells": [
  {
   "cell_type": "markdown",
   "id": "9af1d2cd",
   "metadata": {},
   "source": [
    "Data preparation pipeline"
   ]
  },
  {
   "cell_type": "code",
   "execution_count": 32,
   "id": "b7916723",
   "metadata": {},
   "outputs": [
    {
     "name": "stdout",
     "output_type": "stream",
     "text": [
      "The autoreload extension is already loaded. To reload it, use:\n",
      "  %reload_ext autoreload\n"
     ]
    }
   ],
   "source": [
    "%load_ext autoreload\n",
    "%reload_ext autoreload\n",
    "%autoreload 2"
   ]
  },
  {
   "cell_type": "code",
   "execution_count": 33,
   "id": "c72c63d3",
   "metadata": {},
   "outputs": [],
   "source": [
    "from spacy_generator import SpacyJSONGenerator\n",
    "from Drivers import CloudParquetSaveDriver\n",
    "from datasets import load_dataset\n",
    "from Config import Config\n",
    "import sys\n"
   ]
  },
  {
   "cell_type": "code",
   "execution_count": 21,
   "id": "af15f6fe",
   "metadata": {},
   "outputs": [],
   "source": [
    "generator = SpacyJSONGenerator(batch_size=50, n_process=1,require_gpu=True)\n",
    "dataset = load_dataset(\"Skylion007/openwebtext\", trust_remote_code=True, streaming=True)"
   ]
  },
  {
   "cell_type": "code",
   "execution_count": 34,
   "id": "e9df0457",
   "metadata": {},
   "outputs": [
    {
     "name": "stdout",
     "output_type": "stream",
     "text": [
      "☁️  CloudSaveDriver (GCS) initialized:\n",
      "  - Bucket: parquet_v1_openwebtext-with-pos-ner\n",
      "  - Project: eastern-bridge-472408-d3\n",
      "  - Batch size: 50\n"
     ]
    }
   ],
   "source": [
    "gcs_save_driver = CloudParquetSaveDriver(\n",
    "    bucket_name=Config.GCS_BUCKET_NAME,\n",
    "    project_id=Config.GCS_PROJECT_ID,\n",
    "    batch_size=50  # Small batch size for testing\n",
    "    )"
   ]
  },
  {
   "cell_type": "code",
   "execution_count": 35,
   "id": "766de082",
   "metadata": {},
   "outputs": [
    {
     "name": "stdout",
     "output_type": "stream",
     "text": [
      "🚀 Starting HF map() optimized processing with CloudParquetSaveDriver...\n",
      "Skipping documents (if needed) and adding mapping\n",
      "💾 Processing and saving data...\n",
      "☁️  Saved batch 1 with 50 documents to gs://parquet_v1_openwebtext-with-pos-ner/batch_000001_1759061758.parquet\n",
      "   ⏱️  Upload time: 2.192s, Size: 2.5 MB, Rate: 22.8 docs/sec\n",
      "🛑 Reached target of 1 new batches. Stopping...\n",
      "   📊 Total batches: 1, New batches this run: 1\n",
      "🔄 Finalizing: saving remaining 50 documents to GCS...\n",
      "☁️  Saved batch 2 with 50 documents to gs://parquet_v1_openwebtext-with-pos-ner/batch_000002_1759061760.parquet\n",
      "   ⏱️  Upload time: 1.869s, Size: 2.5 MB, Rate: 26.7 docs/sec\n",
      "✅ GCS finalization completed in 1.897s\n",
      "📊 CloudSaveDriver (GCS) completed:\n",
      "  - Total batches: 2\n",
      "  - Total documents: 50\n",
      "  - Bucket: gs://parquet_v1_openwebtext-with-pos-ner\n",
      "\n",
      "🎉 Processing completed!\n",
      "📊 Performance Summary:\n",
      "   📄 Documents processed: 50\n",
      "   📦 Batches created: 2\n"
     ]
    }
   ],
   "source": [
    "result_driver = generator.process_and_save(\n",
    "            dataset=dataset,\n",
    "            save_driver=gcs_save_driver,\n",
    "            num_batches=1  # Process the whole dataset\n",
    "        )"
   ]
  }
 ],
 "metadata": {
  "kernelspec": {
   "display_name": "deep",
   "language": "python",
   "name": "python3"
  },
  "language_info": {
   "codemirror_mode": {
    "name": "ipython",
    "version": 3
   },
   "file_extension": ".py",
   "mimetype": "text/x-python",
   "name": "python",
   "nbconvert_exporter": "python",
   "pygments_lexer": "ipython3",
   "version": "3.11.8"
  }
 },
 "nbformat": 4,
 "nbformat_minor": 5
}
