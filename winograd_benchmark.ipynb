{
  "cells": [
    {
      "cell_type": "markdown",
      "metadata": {},
      "source": [
        "# Winograd Schema Challenge Benchmark\n",
        "\n",
        "This notebook implements a comprehensive Winograd Schema Challenge benchmark with detailed error analysis using Hugging Face models.\n",
        "\n",
        "## Research Focus\n",
        "Testing the hypothesis: **Can restricting knowledge (ε-masking) actually help reasoning tasks like Winograd schemas?**\n"
      ]
    },
    {
      "cell_type": "markdown",
      "metadata": {},
      "source": [
        "## 1. Installation and Imports\n"
      ]
    },
    {
      "cell_type": "code",
      "execution_count": null,
      "metadata": {},
      "outputs": [],
      "source": [
        "%pip install transformers torch datasets spacy nltk scikit-learn matplotlib seaborn pandas numpy\n",
        "!python -m spacy download en_core_web_sm\n"
      ]
    },
    {
      "cell_type": "code",
      "execution_count": null,
      "metadata": {},
      "outputs": [],
      "source": [
        "import torch\n",
        "import torch.nn as nn\n",
        "from transformers import AutoTokenizer, AutoModelForCausalLM, pipeline\n",
        "import spacy\n",
        "import re\n",
        "import random\n",
        "import numpy as np\n",
        "import pandas as pd\n",
        "import matplotlib.pyplot as plt\n",
        "import seaborn as sns\n",
        "from typing import List, Dict, Tuple, Optional\n",
        "import warnings\n",
        "warnings.filterwarnings('ignore')\n",
        "\n",
        "print(\"All packages imported successfully!\")\n",
        "print(f\"PyTorch version: {torch.__version__}\")\n"
      ]
    },
    {
      "cell_type": "markdown",
      "metadata": {},
      "source": [
        "## 2. Winograd Schema Dataset\n"
      ]
    },
    {
      "cell_type": "code",
      "execution_count": null,
      "metadata": {},
      "outputs": [],
      "source": [
        "class WinogradDataset:\n",
        "    \"\"\"\n",
        "    Winograd Schema Challenge dataset with detailed examples.\n",
        "    \"\"\"\n",
        "    \n",
        "    def __init__(self):\n",
        "        self.schemas = [\n",
        "            {\n",
        "                \"id\": \"wsc_001\",\n",
        "                \"text\": \"The trophy doesn't fit in the brown suitcase because it is too large.\",\n",
        "                \"question\": \"What is too large?\",\n",
        "                \"options\": [\"trophy\", \"suitcase\"],\n",
        "                \"answer\": \"trophy\",\n",
        "                \"reasoning\": \"The pronoun 'it' refers to the trophy, and the trophy is what doesn't fit because it's too large.\",\n",
        "                \"difficulty\": \"medium\"\n",
        "            },\n",
        "            {\n",
        "                \"id\": \"wsc_002\",\n",
        "                \"text\": \"The city councilmen refused the demonstrators a permit because they feared violence.\",\n",
        "                \"question\": \"Who feared violence?\",\n",
        "                \"options\": [\"city councilmen\", \"demonstrators\"],\n",
        "                \"answer\": \"city councilmen\",\n",
        "                \"reasoning\": \"The pronoun 'they' refers to the city councilmen who refused the permit because they (the councilmen) feared violence.\",\n",
        "                \"difficulty\": \"hard\"\n",
        "            },\n",
        "            {\n",
        "                \"id\": \"wsc_003\",\n",
        "                \"text\": \"The large ball crashed right through the table because it was made of Styrofoam.\",\n",
        "                \"question\": \"What was made of Styrofoam?\",\n",
        "                \"options\": [\"large ball\", \"table\"],\n",
        "                \"answer\": \"table\",\n",
        "                \"reasoning\": \"The pronoun 'it' refers to the table, which was made of Styrofoam, allowing the ball to crash through it.\",\n",
        "                \"difficulty\": \"medium\"\n",
        "            },\n",
        "            {\n",
        "                \"id\": \"wsc_004\",\n",
        "                \"text\": \"The delivery truck zoomed by the school bus because it was going so fast.\",\n",
        "                \"question\": \"What was going so fast?\",\n",
        "                \"options\": [\"delivery truck\", \"school bus\"],\n",
        "                \"answer\": \"delivery truck\",\n",
        "                \"reasoning\": \"The pronoun 'it' refers to the delivery truck, which was going so fast that it zoomed by the school bus.\",\n",
        "                \"difficulty\": \"easy\"\n",
        "            },\n",
        "            {\n",
        "                \"id\": \"wsc_005\",\n",
        "                \"text\": \"Sam tried to paint a picture of her dog, but she couldn't because it was too hairy.\",\n",
        "                \"question\": \"What was too hairy?\",\n",
        "                \"options\": [\"picture\", \"dog\"],\n",
        "                \"answer\": \"dog\",\n",
        "                \"reasoning\": \"The pronoun 'it' refers to the dog, which was too hairy for Sam to paint a good picture of.\",\n",
        "                \"difficulty\": \"medium\"\n",
        "            },\n",
        "            {\n",
        "                \"id\": \"wsc_006\",\n",
        "                \"text\": \"The lawyer asked the witness a question, but he was unable to provide a good answer.\",\n",
        "                \"question\": \"Who was unable to provide a good answer?\",\n",
        "                \"options\": [\"lawyer\", \"witness\"],\n",
        "                \"answer\": \"witness\",\n",
        "                \"reasoning\": \"The pronoun 'he' refers to the witness, who was unable to provide a good answer to the lawyer's question.\",\n",
        "                \"difficulty\": \"easy\"\n",
        "            },\n",
        "            {\n",
        "                \"id\": \"wsc_007\",\n",
        "                \"text\": \"The firemen arrived after the house had burned down, but they were still able to save the cat.\",\n",
        "                \"question\": \"Who were still able to save the cat?\",\n",
        "                \"options\": [\"firemen\", \"house\"],\n",
        "                \"answer\": \"firemen\",\n",
        "                \"reasoning\": \"The pronoun 'they' refers to the firemen, who were still able to save the cat despite arriving after the house burned down.\",\n",
        "                \"difficulty\": \"medium\"\n",
        "            },\n",
        "            {\n",
        "                \"id\": \"wsc_008\",\n",
        "                \"text\": \"The student asked the teacher a question, but she didn't know the answer.\",\n",
        "                \"question\": \"Who didn't know the answer?\",\n",
        "                \"options\": [\"student\", \"teacher\"],\n",
        "                \"answer\": \"teacher\",\n",
        "                \"reasoning\": \"The pronoun 'she' refers to the teacher, who didn't know the answer to the student's question.\",\n",
        "                \"difficulty\": \"easy\"\n",
        "            }\n",
        "        ]\n",
        "    \n",
        "    def get_all_schemas(self) -> List[Dict]:\n",
        "        return self.schemas\n",
        "    \n",
        "    def get_by_difficulty(self, difficulty: str) -> List[Dict]:\n",
        "        return [s for s in self.schemas if s[\"difficulty\"] == difficulty]\n",
        "    \n",
        "    def get_schema_by_id(self, schema_id: str) -> Optional[Dict]:\n",
        "        for schema in self.schemas:\n",
        "            if schema[\"id\"] == schema_id:\n",
        "                return schema\n",
        "        return None\n",
        "\n",
        "# Initialize dataset\n",
        "winograd_data = WinogradDataset()\n",
        "print(f\"Winograd dataset loaded with {len(winograd_data.get_all_schemas())} schemas\")\n",
        "print(f\"Easy: {len(winograd_data.get_by_difficulty('easy'))}\")\n",
        "print(f\"Medium: {len(winograd_data.get_by_difficulty('medium'))}\")\n",
        "print(f\"Hard: {len(winograd_data.get_by_difficulty('hard'))}\")\n"
      ]
    },
    {
      "cell_type": "markdown",
      "metadata": {},
      "source": [
        "atch! "
      ]
    }
  ],
  "metadata": {
    "language_info": {
      "name": "python"
    }
  },
  "nbformat": 4,
  "nbformat_minor": 2
}
